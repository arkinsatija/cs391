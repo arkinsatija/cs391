{
 "cells": [
  {
   "cell_type": "code",
   "execution_count": 1,
   "metadata": {
    "slideshow": {
     "slide_type": "skip"
    }
   },
   "outputs": [
    {
     "name": "stdout",
     "output_type": "stream",
     "text": [
      "\n"
     ]
    }
   ],
   "source": [
    "%matplotlib inline\n",
    "%config InlineBackend.figure_format='retina'\n",
    "# import libraries\n",
    "import numpy as np\n",
    "import matplotlib as mp\n",
    "import pandas as pd\n",
    "import matplotlib.pyplot as plt\n",
    "import pandas as pd\n",
    "#import slideUtilities as sl\n",
    "from importlib import reload\n",
    "from datetime import datetime\n",
    "from IPython.display import Image\n",
    "from IPython.display import display_html\n",
    "from IPython.display import display\n",
    "from IPython.display import Math\n",
    "from IPython.display import Latex\n",
    "from IPython.display import HTML\n",
    "print('')"
   ]
  },
  {
   "cell_type": "code",
   "execution_count": 2,
   "metadata": {
    "slideshow": {
     "slide_type": "skip"
    }
   },
   "outputs": [
    {
     "data": {
      "text/html": [
       "<style>\n",
       " .container.slides .celltoolbar, .container.slides .hide-in-slideshow {\n",
       "    display: None ! important;\n",
       "}\n",
       "</style>\n"
      ],
      "text/plain": [
       "<IPython.core.display.HTML object>"
      ]
     },
     "metadata": {},
     "output_type": "display_data"
    }
   ],
   "source": [
    "%%html\n",
    "<style>\n",
    " .container.slides .celltoolbar, .container.slides .hide-in-slideshow {\n",
    "    display: None ! important;\n",
    "}\n",
    "</style>"
   ]
  },
  {
   "cell_type": "markdown",
   "metadata": {
    "slideshow": {
     "slide_type": "slide"
    }
   },
   "source": [
    "### Confidence Intervals"
   ]
  },
  {
   "cell_type": "markdown",
   "metadata": {
    "slideshow": {
     "slide_type": "fragment"
    }
   },
   "source": [
    "Say you are concerned with some data that we take as coming from a random process.\n",
    "\n",
    "You want to characterize it as accurately as possible.   You measure it, yielding a\n",
    "single value.  \n",
    "\n",
    "How much does that value tell you?   Can you rely on it as a description of the random process?"
   ]
  },
  {
   "cell_type": "markdown",
   "metadata": {
    "slideshow": {
     "slide_type": "subslide"
    }
   },
   "source": [
    "Let's say you have a dataset and you compute its average value.   \n",
    "\n",
    "How certain are you that the average would be the same if you took another dataset from the same source (i.e., the same random process)?"
   ]
  },
  {
   "cell_type": "markdown",
   "metadata": {
    "slideshow": {
     "slide_type": "subslide"
    }
   },
   "source": [
    "We think of the hypothetical data source as a random variable with a true mean $\\mu$.\n",
    "\n",
    "We would like to find a range within which we are 90% sure that the\n",
    "true mean $\\mu$ lies.  \n",
    "\n",
    "In other words, we want the probability that the true mean lies in\n",
    "the interval to be 0.9.  This interval is then called the 90% confidence interval."
   ]
  },
  {
   "cell_type": "markdown",
   "metadata": {
    "slideshow": {
     "slide_type": "subslide"
    }
   },
   "source": [
    "To be more precise:  A confidence interval at level $\\gamma$ for a fixed\n",
    "but unknown parameter $m$ is an interval $(a,b)$ such that\n",
    "\n",
    "$$ P[a < m < b] \\geq \\gamma. $$\n",
    "\n",
    "Note that $m$ is fixed --- it is not random.  What is random is the\n",
    "interval $(a, b)$.  This interval is constructed based on the\n",
    "data, which (by assumption) are random."
   ]
  },
  {
   "cell_type": "markdown",
   "metadata": {
    "collapsed": true,
    "slideshow": {
     "slide_type": "slide"
    }
   },
   "source": [
    "### Confidence Intervals for the Mean"
   ]
  },
  {
   "cell_type": "markdown",
   "metadata": {
    "slideshow": {
     "slide_type": "fragment"
    }
   },
   "source": [
    "Imagine we have a set of $n$ samples of a random variable,\n",
    "$x_1, x_2, ..., x_n$ Let's assume that the random variable has mean\n",
    "$\\mu$ and variance $\\sigma^2$.\n",
    "\n",
    "An estimate of $\\mu$ is the empirical average of the samples, $\\bar{x}$.   "
   ]
  },
  {
   "cell_type": "markdown",
   "metadata": {
    "slideshow": {
     "slide_type": "subslide"
    }
   },
   "source": [
    "Now, the Central Limit Theorem tells us that the sum of a\n",
    "large number $n$ of random variables, each with mean $\\mu$ and variance\n",
    "$\\sigma^2$, yields a Gaussian random variable with mean\n",
    "$n\\mu$ and variance $n \\sigma^2$.   So the distribution of the average\n",
    "would be normal with mean $\\mu$ and variance $\\sigma^2 / n$.  That\n",
    "is, \n",
    "\n",
    "$$ \\bar{x} \\sim N(\\mu, \\sigma/\\sqrt{n}) $$\n",
    "\n",
    "We usually assume that the number of samples should be 30 or more for\n",
    "the CLT to hold.   While the specific value 30 is a bit shaky, we will usually be\n",
    "using very large samples (datasets) in this course for which this assumption is \n",
    "valid."
   ]
  },
  {
   "cell_type": "markdown",
   "metadata": {
    "slideshow": {
     "slide_type": "subslide"
    }
   },
   "source": [
    "The standard deviation of the sample mean is called the standard error.\n",
    "\n",
    "Notice that the standard error decreases as we increase the sample size, according to $1/\\sqrt{n}.$\n",
    "\n",
    "So it will turn out that using $\\bar{x}$, we can get\n",
    "increasingly \"tight\" estimates of $\\mu$ as we increase the number of\n",
    "samples $n$."
   ]
  },
  {
   "cell_type": "markdown",
   "metadata": {
    "slideshow": {
     "slide_type": "subslide"
    }
   },
   "source": [
    "Now, remember that the true mean $\\mu$ is a constant, while the\n",
    "empirical mean $\\bar{x}$ is a random variable.   \n",
    "\n",
    "Let us assume for a\n",
    "moment that we know the true $\\mu$ and $\\sigma$, and that we accept that\n",
    "$\\bar{x}$ has a $N(\\mu, \\sigma/\\sqrt{n})$ distribution.   "
   ]
  },
  {
   "cell_type": "markdown",
   "metadata": {
    "slideshow": {
     "slide_type": "subslide"
    }
   },
   "source": [
    "Then it is\n",
    "true that \n",
    "\n",
    "$$ P[\\mu-k\\sigma/\\sqrt{n} < \\bar{x} < \\mu+k\\sigma/\\sqrt{n}] = P[-k < S <\n",
    "k]$$\n",
    "\n",
    "where $S$ is the standard Gaussian random variable (having distribution $N(0,1)$)."
   ]
  },
  {
   "cell_type": "markdown",
   "metadata": {
    "slideshow": {
     "slide_type": "subslide"
    }
   },
   "source": [
    "We write $z_{1-\\alpha/2}$ to be the $1-\\alpha/2$ quantile of the\n",
    "unit normal.  That is, \n",
    "\n",
    "$$ P[-z_{1-\\alpha/2} < S < z_{1-\\alpha/2}] = 1-\\alpha.$$\n",
    "\n",
    "So to form a 90% probability interval for $S$ (centered on\n",
    "zero) we choose $k = z_{0.95}$.  "
   ]
  },
  {
   "cell_type": "code",
   "execution_count": 34,
   "metadata": {
    "slideshow": {
     "slide_type": "subslide"
    }
   },
   "outputs": [
    {
     "name": "stdout",
     "output_type": "stream",
     "text": [
      "\n"
     ]
    },
    {
     "data": {
      "image/png": "[encoded data removed]",
      "text/plain": [
       "<Figure size 432x288 with 1 Axes>"
      ]
     },
     "metadata": {
      "image/png": {
       "height": 283,
       "width": 398
      },
      "needs_background": "light"
     },
     "output_type": "display_data"
    }
   ],
   "source": [
    "#sl.hide_code_in_slideshow()\n",
    "from scipy.stats import norm\n",
    "plt.figure()\n",
    "x = np.linspace(norm.ppf(0.001), norm.ppf(0.999), 100)\n",
    "x90 = np.linspace(norm.ppf(0.05), norm.ppf(0.95), 100)\n",
    "plt.plot(x, norm.pdf(x),'b-')\n",
    "plt.fill_between(x90, 0, norm.pdf(x90))\n",
    "plt.title(r'90% region for Standard Gaussian',size=14)\n",
    "plt.xlabel('x',size=14)\n",
    "plt.ylabel(r'$p(x)$',size=14)\n",
    "print('')"
   ]
  },
  {
   "cell_type": "markdown",
   "metadata": {
    "slideshow": {
     "slide_type": "subslide"
    }
   },
   "source": [
    "Turning back to $\\bar{x}$, the\n",
    "90% probability interval on $\\bar{x}$ would be:\n",
    "\n",
    "$$ \\mu-z_{0.95}\\sigma/\\sqrt{n} < \\bar{x} <\n",
    "\\mu+z_{0.95}\\sigma/\\sqrt{n}. $$"
   ]
  },
  {
   "cell_type": "markdown",
   "metadata": {
    "slideshow": {
     "slide_type": "subslide"
    }
   },
   "source": [
    "The last step: by a simple argument, we can show that the sample mean is \n",
    "in some fixed-size interval centered on the true mean, if and only if the true\n",
    "mean is also in\n",
    "a fixed-size interval (of the same size) centered on the sample mean."
   ]
  },
  {
   "cell_type": "markdown",
   "metadata": {
    "slideshow": {
     "slide_type": "subslide"
    }
   },
   "source": [
    "This means that:\n",
    "\\begin{eqnarray*}\n",
    "  1-\\alpha & = & P[\\mu-z_{1-\\alpha/2}\\sigma/\\sqrt{N} < \\bar{x} <\n",
    "\\mu+z_{1-\\alpha/2}\\sigma/\\sqrt{N}]\\\\\n",
    "& = & P[\\bar{x}-k\\sigma\\sqrt{N} < \\mu < \\bar{x}+k\\sigma/\\sqrt{N}].\n",
    "\\end{eqnarray*}\n",
    "This latter expression defines the __$1-\\alpha$ confidence interval\n",
    "  for the mean.__"
   ]
  },
  {
   "cell_type": "markdown",
   "metadata": {
    "slideshow": {
     "slide_type": "subslide"
    }
   },
   "source": [
    "We are done, except for estimating $\\sigma$.  We do this\n",
    "directly from the data: $\\hat{\\sigma} = s$\n",
    "(where $s$ is the sample standard deviation, $s = \\sqrt{1/(n-1) \\sum (x_i\n",
    "- \\bar{x})^2}$)."
   ]
  },
  {
   "cell_type": "markdown",
   "metadata": {
    "slideshow": {
     "slide_type": "subslide"
    }
   },
   "source": [
    "To summarize: by the argument presented here, a 100(1-$\\alpha$)%\n",
    "confidence interval for the population mean is given by\n",
    "\n",
    "$$\\bar{x} \\pm  z_{1-\\alpha/2} \\, \\frac{s}{\\sqrt{n}}. $$\n",
    "\n",
    "As an example, a 95% confidence interval for the mean is the sample average plus or minus two standard errors."
   ]
  },
  {
   "cell_type": "markdown",
   "metadata": {
    "slideshow": {
     "slide_type": "slide"
    }
   },
   "source": [
    "### Confidence Intervals for the Median"
   ]
  },
  {
   "cell_type": "markdown",
   "metadata": {
    "slideshow": {
     "slide_type": "fragment"
    }
   },
   "source": [
    "A $p$th percentile of a distribution is the value $m_p$ such that $P[X <\n",
    "m_p] = p$.   For example, the median is the 50th percentile."
   ]
  },
  {
   "cell_type": "markdown",
   "metadata": {
    "slideshow": {
     "slide_type": "subslide"
    }
   },
   "source": [
    "Say we start with a set of $n$ i.i.d. observations of an RV $X$. \n",
    "\n",
    "The true $p$th percentile of $X$ is $m_p$ by definition.  "
   ]
  },
  {
   "cell_type": "markdown",
   "metadata": {
    "slideshow": {
     "slide_type": "subslide"
    }
   },
   "source": [
    "Each observation\n",
    "$X_i$ therefore has probability $p$ of being below the corresponding\n",
    "percentile $m_p$.  \n",
    "\n",
    "What is the probability that exactly $j$ of the\n",
    "observations are less than $m_p$?  "
   ]
  },
  {
   "cell_type": "markdown",
   "metadata": {
    "slideshow": {
     "slide_type": "subslide"
    }
   },
   "source": [
    "This is a standard coin-flipping\n",
    "problem --- it is given by the Binomial: $B_{n,p}(j)$.\n",
    "\n",
    "$$ P[\\mbox{exactly }j\\mbox{ observations are less than } m_p] = B_{n,p}(j). $$"
   ]
  },
  {
   "cell_type": "markdown",
   "metadata": {
    "slideshow": {
     "slide_type": "subslide"
    }
   },
   "source": [
    "  \n",
    "We can write this compactly using _order statistics._  For a set\n",
    "of values $X_1, X_2, ..., X_n$ the order statistics are obtained by\n",
    "simply sorting the set.  This yields $X_{(1)}, X_{(2)}, ..., X_{(n)}$ ---\n",
    "so that, for example, $X_{(1)}$ is the smallest of the values and\n",
    "$X_{(n)}$ is the largest."
   ]
  },
  {
   "cell_type": "markdown",
   "metadata": {
    "slideshow": {
     "slide_type": "subslide"
    }
   },
   "source": [
    "Then the above expression can be written:\n",
    "\n",
    "$$ P[X_{(j)} < m_p \\leq X_{(j+1)}] = B_{n,p}(j). $$"
   ]
  },
  {
   "cell_type": "markdown",
   "metadata": {
    "slideshow": {
     "slide_type": "subslide"
    }
   },
   "source": [
    "Now we can string consecutive intervals together if we like, yielding:\n",
    "\n",
    "$$ P[X_{(j)} < m_p \\leq X_{(k)}] = \\sum_{i=j}^k B_{n,p}(i). $$"
   ]
  },
  {
   "cell_type": "markdown",
   "metadata": {
    "slideshow": {
     "slide_type": "subslide"
    }
   },
   "source": [
    "Now look at this from another standpoint.  \n",
    "\n",
    "The above expression also\n",
    "can be read as giving the probability that the $p$th percentile lies between\n",
    "$X_{(j)}$ and $X_{(k)}$.   "
   ]
  },
  {
   "cell_type": "markdown",
   "metadata": {
    "slideshow": {
     "slide_type": "subslide"
    }
   },
   "source": [
    "Let's say the sum on the right evaluates to\n",
    "$\\gamma$.   \n",
    "\n",
    "Then we have shown that $(X_{(j)}, X_{(k)})$ is a confidence\n",
    "interval at level $\\gamma$ for $m_p$."
   ]
  },
  {
   "cell_type": "markdown",
   "metadata": {
    "slideshow": {
     "slide_type": "subslide"
    }
   },
   "source": [
    "To use this in practice, let's say we have a set of $n$ measurements and\n",
    "we want to find the $\\gamma$ confidence interval for $p$th percentile.\n",
    "\n",
    "Then we just \n",
    "need to find integers $j$ and $k$ so that \n",
    "\n",
    "$$ \\sum_{i=j}^k B_{n,p}(i) \\geq \\gamma. $$"
   ]
  },
  {
   "cell_type": "markdown",
   "metadata": {
    "slideshow": {
     "slide_type": "subslide"
    }
   },
   "source": [
    "This can be aided if we have a table of the cumulative distribution of\n",
    "the binomial $F_{n,p}(k)$.   Then we need to find $j$ and $k$ such that\n",
    "\n",
    "$$ F_{n,p}(k) -  F_{n,p}(j) \\geq \\gamma. $$\n",
    "\n",
    "(Remember also that when $np$ is large, we can approximate the binomial\n",
    "by the Normal distribution)."
   ]
  },
  {
   "cell_type": "markdown",
   "metadata": {
    "slideshow": {
     "slide_type": "subslide"
    }
   },
   "source": [
    "__Example.__  Let's say we want the 95% confidence interval for the\n",
    "median, based on the following dataset:\n",
    "\n",
    "3, 1, 9, 7, 11, 15, 12, 4, 17, 10.\n",
    "\n",
    "We can compute that for $n = 10$ and $p = 0.5$,  $F_{n,p}(9) -\n",
    "F_{n,p}(2) \\geq 0.95$.  The order statistics are:\n",
    "\n",
    "1, 3, 4, 7, 9, 10, 11, 12, 15, 17.\n",
    "\n",
    "Then our estimate of the median is 9.5, and the confidence interval is (3,\n",
    "15)."
   ]
  },
  {
   "cell_type": "markdown",
   "metadata": {
    "slideshow": {
     "slide_type": "slide"
    }
   },
   "source": [
    "## Inequalities"
   ]
  },
  {
   "cell_type": "markdown",
   "metadata": {
    "slideshow": {
     "slide_type": "fragment"
    }
   },
   "source": [
    "### Union Bound\n",
    "\n",
    "For *any* events $E_1,E_2,\\ldots , E_k$:\n",
    "\n",
    "$$\\text{Pr}[E_1\\text{ or } E_2\\text{ or }\\ldots E_k]\\leq \\text{Pr}[E_1]+\\text{Pr}[E_2]+\\ldots + \\text{Pr}[E_k]$$\n",
    "\n",
    "**Pros:** Works even for dependent variables\n",
    "\n",
    "**Cos:** Sometimes, very loose particularly for mutually independent events:\n",
    "\n",
    "$$\\text{Pr}[E_1\\text{ or } E_2\\text{ or }\\ldots E_k] = 1-\\prod_{i=1}^k(1-\\text{Pr}[E_i])$$"
   ]
  },
  {
   "cell_type": "markdown",
   "metadata": {
    "slideshow": {
     "slide_type": "slide"
    }
   },
   "source": [
    "### Markov Inequality\n",
    "\n",
    "If $X$ is a non-negative random variable, then for every $c>0$:\n",
    "\n",
    "$$ \\text{Pr}\\left[X\\geq c\\mathbb{E}[X]\\right]\\leq \\frac{1}{c}$$\n",
    "\n",
    "\n",
    "**Proof: ?**\n",
    "\n",
    "**Corollary:** For $c'=x\\;\\mathbb{E}[X]$ we have: $ \\text{Pr}\\left[X\\geq c'\\right]\\leq \\frac{\\mathbb{E}[X]}{c'}$ \n",
    "\n",
    "\n",
    "**pros:** It always works\n",
    "\n",
    "**cons:** \n",
    "- Not very precise\n",
    "- It does not work for the lower tail: $\\text{Pr}\\left[X\\leq c\\mathbb{E}[X]\\right]$ \n",
    "\n",
    "**Example with a fair dice:**\n",
    "\n",
    "$\\text{Pr}[X\\geq 4]$?, $\\text{Pr}[X\\geq 5]$? $\\text{Pr}[X\\geq 6]$?"
   ]
  },
  {
   "cell_type": "markdown",
   "metadata": {
    "slideshow": {
     "slide_type": "slide"
    }
   },
   "source": [
    "### Chebyshev's Inequality\n",
    "\n",
    "For every $c>0$, $\\text{Pr}\\left[|X-\\mathbb{E}[X]|\\geq c\\;\\sqrt{\\text{Var}[X]}\\right]\\leq \\frac{1}{c^2}$\n",
    "\n",
    "**Proof?**\n",
    "\n",
    "**Corollary:** For $c'=c\\;\\sqrt{\\text{Var}[X]}$ we have that:\n",
    "\n",
    "$$\\text{Pr}\\left[|X-\\mathbb{E}[X]|\\geq c'\\right]\\leq \\frac{\\text{Var}[X]}{c'^2}$$ \n",
    "\n",
    "\n",
    "**Example 1** Consider a fair dice and compute the bound on the probability: $\\text{Pr}\\left[V\\geq 4\\text{ or } V\\leq 3\\right]$ ? $\\text{Pr}\\left[V\\geq 5\\text{ or } V\\leq 2\\right]$ ? $\\text{Pr}\\left[V\\geq 6\\text{ or } V\\leq 1\\right]$ \n",
    "\n",
    "**Example 2** Consider again a fair dice that you roll 10 times and compute the same bounds for $V_{10}=$ average over 10 roles.\n",
    "\n",
    "**Example 3** Do the same for $V_{1000}$ average over 1000 rolls.\n"
   ]
  },
  {
   "cell_type": "markdown",
   "metadata": {
    "slideshow": {
     "slide_type": "slide"
    }
   },
   "source": [
    "### Chernoff Bound\n",
    "\n",
    "Let $X_1, X_2,\\ldots , X_t$ be independent and identically-distributed random variables with range $[0,1]$ and\n",
    "expected value $\\mu$. Then, if $X=\\frac{1}{t}\\sum_{i=1}^tX_i$ and $0<\\delta<1$:\n",
    "\n",
    "$$\\text{Pr}\\left[|X-\\mu|\\geq \\delta\\mu\\right]\\leq 2\\exp{\\left(-\\frac{\\mu t\\delta}{3}\\right)}$$\n",
    "\n",
    "\n",
    "**Corollary:** Let $X_1, X_2,\\ldots , X_t$ be independent and identically-distributed random variables with range $[0,c]$ and\n",
    "expected value $\\mu$. Then, if $X=\\frac{1}{t}\\sum_{i=1}^tX_i$ and $0<\\delta<1$: \n",
    "\n",
    "$$\\text{Pr}\\left[|X-\\mu|\\geq \\delta\\mu\\right]\\leq 2\\exp{\\left(-\\frac{\\mu t\\delta}{3c}\\right)}$$\n",
    "\n",
    "\n",
    "**Example 1:** Roll a dice 10 times \n",
    "\n",
    "- $V_{10}$ average over the 10 rolls\n",
    "\n",
    "- Compute $\\text{Pr}\\left[V_{10}\\geq 4 \\text{ and } V_{10}\\leq 3\\right]$\n",
    "\n",
    "**Example 2:** Roll a dice 1000 times\n",
    "\n",
    "Repeat the same computation.\n",
    "\n"
   ]
  }
 ],
 "metadata": {
  "anaconda-cloud": {},
  "celltoolbar": "Slideshow",
  "kernelspec": {
   "display_name": "Python 3",
   "language": "python",
   "name": "python3"
  },
  "language_info": {
   "codemirror_mode": {
    "name": "ipython",
    "version": 3
   },
   "file_extension": ".py",
   "mimetype": "text/x-python",
   "name": "python",
   "nbconvert_exporter": "python",
   "pygments_lexer": "ipython3",
   "version": "3.7.3"
  }
 },
 "nbformat": 4,
 "nbformat_minor": 1
}
