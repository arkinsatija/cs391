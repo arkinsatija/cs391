{
 "cells": [
  {
   "cell_type": "markdown",
   "metadata": {
    "slideshow": {
     "slide_type": "slide"
    }
   },
   "source": [
    "# Course Logistics\n"
   ]
  },
  {
   "cell_type": "markdown",
   "metadata": {
    "slideshow": {
     "slide_type": "slide"
    }
   },
   "source": [
    "## Course Information\n",
    "\n",
    "Course webpage: piazza\n",
    "\n",
    "Schedule: T, Th 12:30-1:45pm\n",
    "\n",
    "Instructor: Evimaria Terzi, evimaria@bu.edu\n",
    "\n",
    "Office hours: Mon 11-12, Thur 11-12:30(or by appointment)\n",
    "\n",
    "Join the class on piazza to get updates, material etc\n",
    "\n",
    "TFs:  Vasily Ilin, Andrew Wood"
   ]
  },
  {
   "cell_type": "markdown",
   "metadata": {
    "slideshow": {
     "slide_type": "slide"
    }
   },
   "source": [
    "## Textbook\n",
    "\n",
    "Textbook: Blum-Hopcroft-Kannan: Foundations of data science. (Jan 2018 edition)\n",
    "\n",
    "Available at: https://www.cs.cornell.edu/jeh/book.pdf"
   ]
  },
  {
   "cell_type": "markdown",
   "metadata": {
    "slideshow": {
     "slide_type": "slide"
    }
   },
   "source": [
    "## Course workload\n",
    "\n",
    "Approximately biweekly problem sets (combination of theory and programming) (30%)\n",
    "\n",
    "Midterm exam (30%)\n",
    "\n",
    "Final exam (40%)\n",
    "\n"
   ]
  },
  {
   "cell_type": "markdown",
   "metadata": {
    "slideshow": {
     "slide_type": "subslide"
    }
   },
   "source": [
    "**No late assignments will be accepted**\n",
    "\n",
    "All solutions to problems sets should be typed in LaTex\n",
    "\n",
    "Regrade requests can only be made within 5 days from the day the grades are posted.\n"
   ]
  },
  {
   "cell_type": "markdown",
   "metadata": {
    "slideshow": {
     "slide_type": "slide"
    }
   },
   "source": [
    "## Learn what you (don’t)know\n",
    "\n",
    "The main goal of the class is for you to get to know what you know and what you don’t know (20% rule)"
   ]
  },
  {
   "cell_type": "markdown",
   "metadata": {
    "slideshow": {
     "slide_type": "slide"
    }
   },
   "source": [
    "## Prerequisites\n",
    "\n",
    "\n",
    "<b> Absolutely necessary: </b> CS 131, CS 132, CS 237\n",
    "\n",
    "<b> Added bonus: </b> CS 330\n"
   ]
  },
  {
   "cell_type": "markdown",
   "metadata": {
    "slideshow": {
     "slide_type": "slide"
    }
   },
   "source": [
    "## Above all\n",
    "\n",
    "\n",
    "The goal of the course is to learn and enjoy\n",
    "\n",
    "The basic principle is to ask questions when you don’t understand\n",
    "\n",
    "Say when things are unclear; concepts need time to sink\n",
    "\n",
    "Participate in the class as much as possible\n",
    "\n",
    "We will do a lot of thinking together...better to think with company"
   ]
  },
  {
   "cell_type": "markdown",
   "metadata": {
    "slideshow": {
     "slide_type": "slide"
    }
   },
   "source": [
    "## Diclaimer\n",
    "\n",
    "There will be a lot of math.\n",
    "\n",
    "There will be programming which requires thinking before programming\n",
    "\n",
    "**Always bring your common sense into this class**"
   ]
  },
  {
   "cell_type": "markdown",
   "metadata": {
    "slideshow": {
     "slide_type": "slide"
    }
   },
   "source": [
    "# Probability and Statistics Refresher"
   ]
  },
  {
   "cell_type": "code",
   "execution_count": 5,
   "metadata": {
    "slideshow": {
     "slide_type": "skip"
    }
   },
   "outputs": [
    {
     "name": "stdout",
     "output_type": "stream",
     "text": [
      "\n"
     ]
    }
   ],
   "source": [
    "%matplotlib inline\n",
    "%config InlineBackend.figure_format='retina'\n",
    "# import libraries\n",
    "import numpy as np\n",
    "import matplotlib as mp\n",
    "import pandas as pd\n",
    "import matplotlib.pyplot as plt\n",
    "import pandas as pd\n",
    "#import slideUtilities as sl\n",
    "from importlib import reload\n",
    "from datetime import datetime\n",
    "from IPython.display import Image\n",
    "from IPython.display import display_html\n",
    "from IPython.display import display\n",
    "from IPython.display import Math\n",
    "from IPython.display import Latex\n",
    "from IPython.display import HTML\n",
    "print('')"
   ]
  },
  {
   "cell_type": "code",
   "execution_count": 6,
   "metadata": {
    "slideshow": {
     "slide_type": "skip"
    }
   },
   "outputs": [
    {
     "data": {
      "text/html": [
       "<style>\n",
       " .container.slides .celltoolbar, .container.slides .hide-in-slideshow {\n",
       "    display: None ! important;\n",
       "}\n",
       "</style>\n"
      ],
      "text/plain": [
       "<IPython.core.display.HTML object>"
      ]
     },
     "metadata": {},
     "output_type": "display_data"
    }
   ],
   "source": [
    "%%html\n",
    "<style>\n",
    " .container.slides .celltoolbar, .container.slides .hide-in-slideshow {\n",
    "    display: None ! important;\n",
    "}\n",
    "</style>"
   ]
  },
  {
   "cell_type": "markdown",
   "metadata": {
    "slideshow": {
     "slide_type": "slide"
    }
   },
   "source": [
    "## Probability\n",
    "\n",
    "What is probability?  "
   ]
  },
  {
   "cell_type": "markdown",
   "metadata": {
    "slideshow": {
     "slide_type": "subslide"
    }
   },
   "source": [
    "Historically, the notion of probability has actually been very slippery and hard to pin down exactly.   There are probably at least three ways to view probability in practice:\n",
    "\n",
    "1. as a mathematical exercise involving positive functions that integrate to 1 (i.e., distributions).\n",
    "2. as an encoding of natural rules for reasoning under uncertainty. \n",
    "3. as an idealization of properties of data and processes."
   ]
  },
  {
   "cell_type": "markdown",
   "metadata": {
    "slideshow": {
     "slide_type": "slide"
    }
   },
   "source": [
    ">Any simple idea is approximate; as an illustration, consider an object ... what is an object? Philosophers are always \n",
    ">saying, “Well, just take a chair for example.” The moment they say that, you know that they do not know what they are \n",
    ">talking about any more. What is a chair? ... every object is a mixture of a lot of things, so we can deal with it \n",
    "> only as a series of approximations and idealizations.\n",
    "\n",
    ">The trick is the idealizations.\n",
    "\n",
    "Richard Feynman, _The Feynman Lectures on Physics, 12-2_"
   ]
  },
  {
   "cell_type": "markdown",
   "metadata": {
    "slideshow": {
     "slide_type": "slide"
    }
   },
   "source": [
    "Here is an illustration of this principle applied to probability:"
   ]
  },
  {
   "cell_type": "markdown",
   "metadata": {
    "slideshow": {
     "slide_type": "subslide"
    }
   },
   "source": [
    ">In a serious work ... an expression such as “this phenomenon is due to chance” constitutes simply, \n",
    ">an elliptic form of speech. ... It really means “everything occurs as if this phenomenon were due to chance,” \n",
    ">or, to be more precise: “To describe, or interpret or formalize this phenomenon, \n",
    ">only probabilistic models have so far given good results.”\n",
    "\n",
    "Georges Matheron, _Estimating and Choosing: An Essay on Probability in Practice_"
   ]
  },
  {
   "cell_type": "markdown",
   "metadata": {
    "slideshow": {
     "slide_type": "slide"
    }
   },
   "source": [
    "### Probability and Conditioning"
   ]
  },
  {
   "cell_type": "markdown",
   "metadata": {
    "slideshow": {
     "slide_type": "slide"
    }
   },
   "source": [
    "__Definition.__  Consider a set $\\Omega$, referred to as the\n",
    "_sample space._  A _probability\n",
    "  measure_ on $\\Omega$ is a function $P[\\cdot]$ defined on all the subsets of $\\Omega$ (the\n",
    "  _events_) such that:\n",
    "  \n",
    "1. $P[\\Omega] = 1$\n",
    "2. For any event $A \\subset \\Omega$, $P[A] \\geq 0.$\n",
    "3. For any events $A, B \\subset \\Omega$ where $A \\cap B =\n",
    "    \\emptyset$, $P[A \\cup B] = P[A] + P[B]$.\n",
    "\n"
   ]
  },
  {
   "cell_type": "markdown",
   "metadata": {
    "slideshow": {
     "slide_type": "slide"
    }
   },
   "source": [
    "Often we want to ask how a probability measure changes if we restrict the sample space to be some subset of $\\Omega$.  \n",
    "\n",
    "This is called __conditioning.__"
   ]
  },
  {
   "cell_type": "markdown",
   "metadata": {
    "slideshow": {
     "slide_type": "slide"
    }
   },
   "source": [
    "__Definition.__ The _conditional probability_ of an event $A$ given that\n",
    "event $B$ (having positive probability) is known to occur, is \n",
    "\n",
    "$$ P[A|B] = \\frac{P[A \\cap B]}{P[B]}  \\mbox{ where } P[B] > 0 $$"
   ]
  },
  {
   "cell_type": "markdown",
   "metadata": {
    "slideshow": {
     "slide_type": "slide"
    }
   },
   "source": [
    "The function $P[\\cdot|B]$ is a probability measure over the sample space\n",
    "$B$.  \n",
    "\n",
    "Note that in the expression $P[A|B]$, $A$ is random but $B$ is fixed. \n",
    "\n",
    "Now if $B$ is a proper subset of $\\Omega,$ then $P[B] < 1$.   So $P[\\cdot|B]$ is a rescaling of the quantity $P[A\\cap B]$ so that $P[B|B] = 1.$ "
   ]
  },
  {
   "cell_type": "markdown",
   "metadata": {
    "slideshow": {
     "slide_type": "slide"
    }
   },
   "source": [
    "The sample space $\\Omega$ may be continuous or discrete, and bounded or unbounded."
   ]
  },
  {
   "cell_type": "markdown",
   "metadata": {
    "slideshow": {
     "slide_type": "slide"
    }
   },
   "source": [
    "__Independent Events.__\n",
    "\n",
    "__Definition.__ Two events $A$ and $B$ are __independent__ if $P[A\\cap B] = P[A] \\cdot P[B].$\n",
    "\n",
    "This is exactly the same as saying that $P[A|B] = P[A].$  \n",
    "\n",
    "So we can see that the intuitive notion of independence is that \"if one event occurs, that does not change the probability of the other event.\""
   ]
  },
  {
   "cell_type": "markdown",
   "metadata": {
    "slideshow": {
     "slide_type": "slide"
    }
   },
   "source": [
    "__Pairwise Independence.__\n",
    "\n",
    "__Definition.__ A finite set of events $\\{A_1, A_2,\\ldots , A_k\\}$ is __pairwise independent__ if every *pair* of events is independent. That is for all distinct pairs of indices $i,j$:\n",
    "\n",
    "$$\n",
    "\\text{Pr}(A_i\\cap A_j) = \\text{Pr}(A_i)\\; \\text{Pr}(A_j)\n",
    "$$\n"
   ]
  },
  {
   "cell_type": "markdown",
   "metadata": {
    "slideshow": {
     "slide_type": "slide"
    }
   },
   "source": [
    "__Mutual Independence.__\n",
    "\n",
    "__Definition.__ A finite set of events $\\{A_1, A_2,\\ldots , A_k\\}$ is __mutually independent__ if every event is independent of any intersection of other events.  That is, if and only if for every $\\ell\\leq k$ and for every\n",
    "$\\ell$-element subset of events $\\{B_1,\\ldots , B_\\ell\\}\\subseteq \\{A_1,\\ldots , A_k\\}$:\n",
    "\n",
    "$$\n",
    "\\text{Pr}\\left(\\bigcap_{i=1}^k B_i\\right) = \\prod_{i=1}^k\\text{Pr}(B_i).\n",
    "$$\n",
    "\n",
    "Note that this is not a single condition involving only the product of all the probabilities of all single events; it must be hold true *all subsets of events*. "
   ]
  },
  {
   "cell_type": "markdown",
   "metadata": {
    "slideshow": {
     "slide_type": "slide"
    }
   },
   "source": [
    "__Mutual vs pairwise independence__\n",
    "\n",
    "By definition, mutual independence implies pairwise independence.\n",
    "\n",
    "**Is the opposite true?** That is, does pairwise independence imply mutual independence? The answer is **NO**"
   ]
  }
 ],
 "metadata": {
  "anaconda-cloud": {},
  "celltoolbar": "Slideshow",
  "kernelspec": {
   "display_name": "Python 3",
   "language": "python",
   "name": "python3"
  },
  "language_info": {
   "codemirror_mode": {
    "name": "ipython",
    "version": 3
   },
   "file_extension": ".py",
   "mimetype": "text/x-python",
   "name": "python",
   "nbconvert_exporter": "python",
   "pygments_lexer": "ipython3",
   "version": "3.7.3"
  }
 },
 "nbformat": 4,
 "nbformat_minor": 1
}
